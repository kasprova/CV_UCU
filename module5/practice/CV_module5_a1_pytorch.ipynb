{
  "nbformat": 4,
  "nbformat_minor": 0,
  "metadata": {
    "accelerator": "GPU",
    "colab": {
      "name": "CV_module5_a1_pytorch.ipynb",
      "version": "0.3.2",
      "provenance": [],
      "collapsed_sections": []
    },
    "kernelspec": {
      "display_name": "Python 3",
      "language": "python",
      "name": "python3"
    },
    "language_info": {
      "codemirror_mode": {
        "name": "ipython",
        "version": 3
      },
      "file_extension": ".py",
      "mimetype": "text/x-python",
      "name": "python",
      "nbconvert_exporter": "python",
      "pygments_lexer": "ipython3",
      "version": "3.6.0"
    }
  },
  "cells": [
    {
      "cell_type": "markdown",
      "metadata": {
        "colab_type": "text",
        "id": "GbaoBUZtlkvu"
      },
      "source": [
        "*Notebook conventions:*\n",
        "\n",
        "* <font color=\"red\">assignment problem</font>. The red color indicates the task that should be done\n",
        "* <font color=\"green\">debugging</font>. The green tells you what is expected outcome. Its primarily goal is to help you get the correct answer\n",
        "* <font color=\"blue\">comments, hints</font>.\n",
        "\n",
        "Assignment 1 (pytorch basics)\n",
        "======================\n",
        "\n"
      ]
    },
    {
      "cell_type": "markdown",
      "metadata": {
        "colab_type": "text",
        "id": "637S0mjilkvv"
      },
      "source": [
        "![pytorch](https://upload.wikimedia.org/wikipedia/commons/9/96/Pytorch_logo.png)"
      ]
    },
    {
      "cell_type": "markdown",
      "metadata": {
        "colab_type": "text",
        "id": "-aEaNoZtlkvw"
      },
      "source": [
        "#### Useful Links:\n",
        "\n",
        "* pytorch official documentation\n",
        "http://pytorch.org/docs/master/index.html\n",
        "\n",
        "* pytorch discussion\n",
        "https://discuss.pytorch.org/\n",
        "\n",
        "* pytorch official tutorials\n",
        "https://pytorch.org/tutorials/\n",
        "\n",
        "* pytorch tutorials (a bit more advance than official)\n",
        "https://github.com/yunjey/pytorch-tutorial\n",
        "\n",
        "* TODO: more?\n"
      ]
    },
    {
      "cell_type": "markdown",
      "metadata": {
        "colab_type": "text",
        "id": "yjTBYu_blkvx"
      },
      "source": [
        "### Preliminaries"
      ]
    },
    {
      "cell_type": "code",
      "metadata": {
        "colab_type": "code",
        "id": "agpPjG0Mlkv2",
        "colab": {}
      },
      "source": [
        "import numpy as np\n",
        "import torch\n",
        "import torchvision"
      ],
      "execution_count": 0,
      "outputs": []
    },
    {
      "cell_type": "code",
      "metadata": {
        "id": "rkmFoSi5EuS0",
        "colab_type": "code",
        "colab": {
          "base_uri": "https://localhost:8080/",
          "height": 73
        },
        "outputId": "70af70aa-13bf-41dd-c3c5-7ef12ed37eff"
      },
      "source": [
        "# check versions\n",
        "from platform import python_version\n",
        "print(\"python version:\".ljust(25) + python_version())\n",
        "print(\"torch version:\".ljust(25) + torch.__version__)\n",
        "print(\"torchvision version:\".ljust(25) + torchvision.__version__)"
      ],
      "execution_count": 3,
      "outputs": [
        {
          "output_type": "stream",
          "text": [
            "python version:          3.6.8\n",
            "torch version:           1.1.0\n",
            "torchvision version:     0.3.0\n"
          ],
          "name": "stdout"
        }
      ]
    },
    {
      "cell_type": "code",
      "metadata": {
        "colab_type": "code",
        "id": "x9w2ph2LFEM2",
        "colab": {}
      },
      "source": [
        "# TODO: not sure I need it here\n",
        "from google.colab import files"
      ],
      "execution_count": 0,
      "outputs": []
    },
    {
      "cell_type": "code",
      "metadata": {
        "colab_type": "code",
        "id": "yCxjj52jlkv5",
        "colab": {}
      },
      "source": [
        "# random seed settings\n",
        "torch.manual_seed(42)\n",
        "np.random.seed(42)"
      ],
      "execution_count": 0,
      "outputs": []
    },
    {
      "cell_type": "markdown",
      "metadata": {
        "colab_type": "text",
        "id": "ZRnBcOudlkv8"
      },
      "source": [
        "###  Tensors"
      ]
    },
    {
      "cell_type": "markdown",
      "metadata": {
        "colab_type": "text",
        "id": "34t2aUsZlkv9"
      },
      "source": [
        "One of the main data type in pytorch is tensor.\n",
        "We will start with the concept of tensor and how it is used in pytorch\n",
        "\n",
        "![tensor](https://drive.google.com/uc?id=1LIthDTyj0tuz2VbewX7HGInseyFY-tpP)"
      ]
    },
    {
      "cell_type": "markdown",
      "metadata": {
        "colab_type": "text",
        "id": "41I0TEmRlkv-"
      },
      "source": [
        "#### Tensor Initialization"
      ]
    },
    {
      "cell_type": "code",
      "metadata": {
        "colab_type": "code",
        "id": "w63UyQFvlkv_",
        "outputId": "e194c5fb-6ba0-4baf-8dc3-59ee25e61f67",
        "colab": {
          "base_uri": "https://localhost:8080/",
          "height": 148
        }
      },
      "source": [
        "# 1d tensor of size 64 of type float (default)\n",
        "# (this tensor is initialized with default values close to zero)\n",
        "v = torch.empty(64)\n",
        "\n",
        "print(\" * the first 4 elements of 'v' are:\")\n",
        "print(v[:4]) # print the first four elements of the tensor\n",
        "\n",
        "# initialize with array [0,1,...,63]\n",
        "v = torch.arange(0,64)\n",
        "\n",
        "print(\" * the first 4 elements of 'v' are:\")\n",
        "print(v[:4]) # print the first four elements of the tensor\n",
        "\n",
        "print(\" * the size of the 'v' is \")\n",
        "print(v.size())\n",
        "print(v.shape)"
      ],
      "execution_count": 6,
      "outputs": [
        {
          "output_type": "stream",
          "text": [
            " * the first 4 elements of 'v' are:\n",
            "tensor([6.4999e-37, 0.0000e+00, 2.8026e-45, 0.0000e+00])\n",
            " * the first 4 elements of 'v' are:\n",
            "tensor([0, 1, 2, 3])\n",
            " * the size of the 'v' is \n",
            "torch.Size([64])\n",
            "torch.Size([64])\n"
          ],
          "name": "stdout"
        }
      ]
    },
    {
      "cell_type": "code",
      "metadata": {
        "colab_type": "code",
        "id": "i_FCufMClkwE",
        "outputId": "5f7108f7-a7c4-4a2f-bd85-8172ba62fd20",
        "colab": {
          "base_uri": "https://localhost:8080/",
          "height": 279
        }
      },
      "source": [
        "# 2d tensor of size 64 of type float\n",
        "x = torch.zeros(8, 8, dtype=torch.long)\n",
        "\n",
        "print(\" * the first 4 elements of 'x' are:\")\n",
        "print(x[:4,:4]) # print the last four elements of the tensor\n",
        "\n",
        "# initialize with array all ones\n",
        "x = torch.ones(8, 8, dtype=torch.float)\n",
        "\n",
        "print(\" * the first 4 elements of 'x' are:\")\n",
        "print(x[:4, :4]) # print the last four elements of the tensor\n",
        "\n",
        "print(\" * the size of the 'x' is \")\n",
        "print(x.size())\n",
        "\n",
        "print(\" * the size of the 'x' can also be obtained by familar from numpy 'shape' command\")\n",
        "print(x.shape)"
      ],
      "execution_count": 7,
      "outputs": [
        {
          "output_type": "stream",
          "text": [
            " * the first 4 elements of 'x' are:\n",
            "tensor([[0, 0, 0, 0],\n",
            "        [0, 0, 0, 0],\n",
            "        [0, 0, 0, 0],\n",
            "        [0, 0, 0, 0]])\n",
            " * the first 4 elements of 'x' are:\n",
            "tensor([[1., 1., 1., 1.],\n",
            "        [1., 1., 1., 1.],\n",
            "        [1., 1., 1., 1.],\n",
            "        [1., 1., 1., 1.]])\n",
            " * the size of the 'x' is \n",
            "torch.Size([8, 8])\n",
            " * the size of the 'x' can also be obtained by familar from numpy 'shape' command\n",
            "torch.Size([8, 8])\n"
          ],
          "name": "stdout"
        }
      ]
    },
    {
      "cell_type": "markdown",
      "metadata": {
        "colab_type": "text",
        "id": "yIxLwDqJlkwI"
      },
      "source": [
        "-----\n",
        "\n",
        " <font color=\"red\">**[PROBLEM I]:** </font> \n",
        "\n",
        " <font color=\"red\"> Initialize X </font>     \n",
        " <font color=\"red\"> 3d Tensor of size (4,4,4) </font>   \n",
        " <font color=\"red\"> of type int32 with all elements equal to 10 </font>   \n",
        "\n",
        "-----"
      ]
    },
    {
      "cell_type": "code",
      "metadata": {
        "colab_type": "code",
        "id": "IDKTCF-FlkwJ",
        "colab": {}
      },
      "source": [
        "# YOUR CODE HERE\n",
        "\n",
        "X = torch.zeros(4, 4, 4, dtype=torch.int32)\n",
        "X[:,:,:] = 10"
      ],
      "execution_count": 0,
      "outputs": []
    },
    {
      "cell_type": "code",
      "metadata": {
        "id": "2kUZgqOyGHBZ",
        "colab_type": "code",
        "colab": {
          "base_uri": "https://localhost:8080/",
          "height": 372
        },
        "outputId": "aa48b5d8-5d78-4cf3-bc00-60bb138feb7e"
      },
      "source": [
        "X"
      ],
      "execution_count": 9,
      "outputs": [
        {
          "output_type": "execute_result",
          "data": {
            "text/plain": [
              "tensor([[[10, 10, 10, 10],\n",
              "         [10, 10, 10, 10],\n",
              "         [10, 10, 10, 10],\n",
              "         [10, 10, 10, 10]],\n",
              "\n",
              "        [[10, 10, 10, 10],\n",
              "         [10, 10, 10, 10],\n",
              "         [10, 10, 10, 10],\n",
              "         [10, 10, 10, 10]],\n",
              "\n",
              "        [[10, 10, 10, 10],\n",
              "         [10, 10, 10, 10],\n",
              "         [10, 10, 10, 10],\n",
              "         [10, 10, 10, 10]],\n",
              "\n",
              "        [[10, 10, 10, 10],\n",
              "         [10, 10, 10, 10],\n",
              "         [10, 10, 10, 10],\n",
              "         [10, 10, 10, 10]]], dtype=torch.int32)"
            ]
          },
          "metadata": {
            "tags": []
          },
          "execution_count": 9
        }
      ]
    },
    {
      "cell_type": "code",
      "metadata": {
        "colab_type": "code",
        "id": "9PBunfBLlkwL",
        "outputId": "6438d57d-cd6f-48a2-f7e8-fed0fe56dfa8",
        "colab": {
          "base_uri": "https://localhost:8080/",
          "height": 36
        }
      },
      "source": [
        "X.shape"
      ],
      "execution_count": 10,
      "outputs": [
        {
          "output_type": "execute_result",
          "data": {
            "text/plain": [
              "torch.Size([4, 4, 4])"
            ]
          },
          "metadata": {
            "tags": []
          },
          "execution_count": 10
        }
      ]
    },
    {
      "cell_type": "markdown",
      "metadata": {
        "colab_type": "text",
        "id": "V6lo7g0vlkwP"
      },
      "source": [
        "#### Reshaping, broadcasting"
      ]
    },
    {
      "cell_type": "markdown",
      "metadata": {
        "colab_type": "text",
        "id": "tvQ9VswXlkwQ"
      },
      "source": [
        "Tensor reshaping is done with command 'view':"
      ]
    },
    {
      "cell_type": "code",
      "metadata": {
        "colab_type": "code",
        "id": "9EZqQ4bolkwR",
        "outputId": "e2dcb386-a5d7-4550-c0b5-7d9675b41131",
        "colab": {
          "base_uri": "https://localhost:8080/",
          "height": 73
        }
      },
      "source": [
        "a = torch.tensor([[1,2], [3,4]])\n",
        "a_reshaped = a.view(4) # reshape into one-dimensional tensor of size 4\n",
        "\n",
        "print(a)\n",
        "print(a_reshaped)"
      ],
      "execution_count": 11,
      "outputs": [
        {
          "output_type": "stream",
          "text": [
            "tensor([[1, 2],\n",
            "        [3, 4]])\n",
            "tensor([1, 2, 3, 4])\n"
          ],
          "name": "stdout"
        }
      ]
    },
    {
      "cell_type": "markdown",
      "metadata": {
        "colab_type": "text",
        "id": "PbfinsFPlkwU"
      },
      "source": [
        "-----\n",
        "\n",
        " <font color=\"red\"> **[PROBLEM II]:** </font> \n",
        "\n",
        " <font color=\"red\"> Use command 'view' to reshape v and X into 2d tensor --> v' and X'. </font>  \n",
        "  <font color=\"red\">Also convet all tensors to type double. </font>\n",
        " <font color=\"red\"> Perform addition of these reshaped tensors, namely calculate v' + X' + x </font>  \n",
        " <font color=\"red\"> Finally display the result. </font>\n",
        "\n",
        "-----"
      ]
    },
    {
      "cell_type": "code",
      "metadata": {
        "id": "MKwQfT04GXac",
        "colab_type": "code",
        "colab": {
          "base_uri": "https://localhost:8080/",
          "height": 297
        },
        "outputId": "f4556ef1-9193-471d-d666-ed9088fe4d48"
      },
      "source": [
        "# YOUR CODE HERE\n",
        "v_reshaped = v.view(8,8).type(torch.DoubleTensor) \n",
        "print(\"v: \",v)\n",
        "print(\"v.shape: \",v.shape)\n",
        "print(\"-----\")\n",
        "print(\"v_reshaped: \",v_reshaped)\n",
        "print(\"v_reshaped.shape: \",v_reshaped.shape)"
      ],
      "execution_count": 12,
      "outputs": [
        {
          "output_type": "stream",
          "text": [
            "v:  tensor([ 0,  1,  2,  3,  4,  5,  6,  7,  8,  9, 10, 11, 12, 13, 14, 15, 16, 17,\n",
            "        18, 19, 20, 21, 22, 23, 24, 25, 26, 27, 28, 29, 30, 31, 32, 33, 34, 35,\n",
            "        36, 37, 38, 39, 40, 41, 42, 43, 44, 45, 46, 47, 48, 49, 50, 51, 52, 53,\n",
            "        54, 55, 56, 57, 58, 59, 60, 61, 62, 63])\n",
            "v.shape:  torch.Size([64])\n",
            "-----\n",
            "v_reshaped:  tensor([[ 0.,  1.,  2.,  3.,  4.,  5.,  6.,  7.],\n",
            "        [ 8.,  9., 10., 11., 12., 13., 14., 15.],\n",
            "        [16., 17., 18., 19., 20., 21., 22., 23.],\n",
            "        [24., 25., 26., 27., 28., 29., 30., 31.],\n",
            "        [32., 33., 34., 35., 36., 37., 38., 39.],\n",
            "        [40., 41., 42., 43., 44., 45., 46., 47.],\n",
            "        [48., 49., 50., 51., 52., 53., 54., 55.],\n",
            "        [56., 57., 58., 59., 60., 61., 62., 63.]], dtype=torch.float64)\n",
            "v_reshaped.shape:  torch.Size([8, 8])\n"
          ],
          "name": "stdout"
        }
      ]
    },
    {
      "cell_type": "code",
      "metadata": {
        "id": "TE4Y71uIGpVT",
        "colab_type": "code",
        "colab": {
          "base_uri": "https://localhost:8080/",
          "height": 578
        },
        "outputId": "812f2d68-e3d7-44fb-9f92-642644bc652a"
      },
      "source": [
        "X_reshaped = X.type(torch.DoubleTensor).view(8,8)\n",
        "print(\"X: \",X)\n",
        "print(\"X.shape: \",X.shape)\n",
        "print(\"-----\")\n",
        "print(\"X_reshaped: \",X_reshaped)\n",
        "print(\"X_reshaped.shape: \",X_reshaped.shape)"
      ],
      "execution_count": 13,
      "outputs": [
        {
          "output_type": "stream",
          "text": [
            "X:  tensor([[[10, 10, 10, 10],\n",
            "         [10, 10, 10, 10],\n",
            "         [10, 10, 10, 10],\n",
            "         [10, 10, 10, 10]],\n",
            "\n",
            "        [[10, 10, 10, 10],\n",
            "         [10, 10, 10, 10],\n",
            "         [10, 10, 10, 10],\n",
            "         [10, 10, 10, 10]],\n",
            "\n",
            "        [[10, 10, 10, 10],\n",
            "         [10, 10, 10, 10],\n",
            "         [10, 10, 10, 10],\n",
            "         [10, 10, 10, 10]],\n",
            "\n",
            "        [[10, 10, 10, 10],\n",
            "         [10, 10, 10, 10],\n",
            "         [10, 10, 10, 10],\n",
            "         [10, 10, 10, 10]]], dtype=torch.int32)\n",
            "X.shape:  torch.Size([4, 4, 4])\n",
            "-----\n",
            "X_reshaped:  tensor([[10., 10., 10., 10., 10., 10., 10., 10.],\n",
            "        [10., 10., 10., 10., 10., 10., 10., 10.],\n",
            "        [10., 10., 10., 10., 10., 10., 10., 10.],\n",
            "        [10., 10., 10., 10., 10., 10., 10., 10.],\n",
            "        [10., 10., 10., 10., 10., 10., 10., 10.],\n",
            "        [10., 10., 10., 10., 10., 10., 10., 10.],\n",
            "        [10., 10., 10., 10., 10., 10., 10., 10.],\n",
            "        [10., 10., 10., 10., 10., 10., 10., 10.]], dtype=torch.float64)\n",
            "X_reshaped.shape:  torch.Size([8, 8])\n"
          ],
          "name": "stdout"
        }
      ]
    },
    {
      "cell_type": "code",
      "metadata": {
        "id": "2-9DeaWTIkAn",
        "colab_type": "code",
        "colab": {
          "base_uri": "https://localhost:8080/",
          "height": 166
        },
        "outputId": "c10d216b-81ce-4d50-86e8-c33765049c9d"
      },
      "source": [
        "print(X_reshaped+v_reshaped+x.type(torch.DoubleTensor))"
      ],
      "execution_count": 14,
      "outputs": [
        {
          "output_type": "stream",
          "text": [
            "tensor([[11., 12., 13., 14., 15., 16., 17., 18.],\n",
            "        [19., 20., 21., 22., 23., 24., 25., 26.],\n",
            "        [27., 28., 29., 30., 31., 32., 33., 34.],\n",
            "        [35., 36., 37., 38., 39., 40., 41., 42.],\n",
            "        [43., 44., 45., 46., 47., 48., 49., 50.],\n",
            "        [51., 52., 53., 54., 55., 56., 57., 58.],\n",
            "        [59., 60., 61., 62., 63., 64., 65., 66.],\n",
            "        [67., 68., 69., 70., 71., 72., 73., 74.]], dtype=torch.float64)\n"
          ],
          "name": "stdout"
        }
      ]
    },
    {
      "cell_type": "markdown",
      "metadata": {
        "colab_type": "text",
        "id": "7MIoop_flkwY"
      },
      "source": [
        "### Operations on Tensors"
      ]
    },
    {
      "cell_type": "markdown",
      "metadata": {
        "colab_type": "text",
        "id": "ob2KRkFRRScX"
      },
      "source": [
        "relevant tutorial\n",
        "https://pytorch.org/tutorials/beginner/blitz/tensor_tutorial.html#operations"
      ]
    },
    {
      "cell_type": "markdown",
      "metadata": {
        "colab_type": "text",
        "id": "lo6Y9pB8lkwZ"
      },
      "source": [
        "There are multiple syntaxes for operations. Let us look for addition operation."
      ]
    },
    {
      "cell_type": "code",
      "metadata": {
        "colab_type": "code",
        "id": "zeUMQde7Rnyo",
        "colab": {}
      },
      "source": [
        "x = x[:4,:4]\n",
        "y = v.type(torch.float).view(8,8)[:4,:4]"
      ],
      "execution_count": 0,
      "outputs": []
    },
    {
      "cell_type": "code",
      "metadata": {
        "id": "4BgsZIvpKzZz",
        "colab_type": "code",
        "colab": {
          "base_uri": "https://localhost:8080/",
          "height": 166
        },
        "outputId": "239db6ef-725b-43e0-a2ad-699f99a9259c"
      },
      "source": [
        "print(\"x: \",x)\n",
        "print(\"y: \",y)"
      ],
      "execution_count": 16,
      "outputs": [
        {
          "output_type": "stream",
          "text": [
            "x:  tensor([[1., 1., 1., 1.],\n",
            "        [1., 1., 1., 1.],\n",
            "        [1., 1., 1., 1.],\n",
            "        [1., 1., 1., 1.]])\n",
            "y:  tensor([[ 0.,  1.,  2.,  3.],\n",
            "        [ 8.,  9., 10., 11.],\n",
            "        [16., 17., 18., 19.],\n",
            "        [24., 25., 26., 27.]])\n"
          ],
          "name": "stdout"
        }
      ]
    },
    {
      "cell_type": "code",
      "metadata": {
        "colab_type": "code",
        "id": "Jx9pgVR-RxfU",
        "outputId": "767d0c97-326d-4110-d51b-e4eb94648d29",
        "colab": {
          "base_uri": "https://localhost:8080/",
          "height": 241
        }
      },
      "source": [
        "print(torch.add(x, y))\n",
        "print(x + y)\n",
        "result = torch.empty_like(x)\n",
        "torch.add(x, y, out=result)\n",
        "print(result)"
      ],
      "execution_count": 17,
      "outputs": [
        {
          "output_type": "stream",
          "text": [
            "tensor([[ 1.,  2.,  3.,  4.],\n",
            "        [ 9., 10., 11., 12.],\n",
            "        [17., 18., 19., 20.],\n",
            "        [25., 26., 27., 28.]])\n",
            "tensor([[ 1.,  2.,  3.,  4.],\n",
            "        [ 9., 10., 11., 12.],\n",
            "        [17., 18., 19., 20.],\n",
            "        [25., 26., 27., 28.]])\n",
            "tensor([[ 1.,  2.,  3.,  4.],\n",
            "        [ 9., 10., 11., 12.],\n",
            "        [17., 18., 19., 20.],\n",
            "        [25., 26., 27., 28.]])\n"
          ],
          "name": "stdout"
        }
      ]
    },
    {
      "cell_type": "markdown",
      "metadata": {
        "colab_type": "text",
        "id": "Mk9fcUnjS1lK"
      },
      "source": [
        "inplace addition"
      ]
    },
    {
      "cell_type": "code",
      "metadata": {
        "colab_type": "code",
        "id": "TBuUEX71Rxou",
        "outputId": "5d227806-d12d-4cca-fc57-268e0d8c3ce6",
        "colab": {
          "base_uri": "https://localhost:8080/",
          "height": 166
        }
      },
      "source": [
        "print(x)\n",
        "x.add_(y)\n",
        "print(x)"
      ],
      "execution_count": 18,
      "outputs": [
        {
          "output_type": "stream",
          "text": [
            "tensor([[1., 1., 1., 1.],\n",
            "        [1., 1., 1., 1.],\n",
            "        [1., 1., 1., 1.],\n",
            "        [1., 1., 1., 1.]])\n",
            "tensor([[ 1.,  2.,  3.,  4.],\n",
            "        [ 9., 10., 11., 12.],\n",
            "        [17., 18., 19., 20.],\n",
            "        [25., 26., 27., 28.]])\n"
          ],
          "name": "stdout"
        }
      ]
    },
    {
      "cell_type": "markdown",
      "metadata": {
        "colab_type": "text",
        "id": "tJdssKMxlkwe"
      },
      "source": [
        "### Numpy bridge"
      ]
    },
    {
      "cell_type": "code",
      "metadata": {
        "colab_type": "code",
        "id": "88VK_9Jylkwe",
        "outputId": "b9f4648f-e178-4275-e876-40339add052f",
        "colab": {
          "base_uri": "https://localhost:8080/",
          "height": 129
        }
      },
      "source": [
        "# create numpy array\n",
        "a = np.array([[1,2], [3,4]])\n",
        "# transform numpy array into torch.Tensor\n",
        "b = torch.from_numpy(a)\n",
        "# make operation on this Tensor (in this case transpose)\n",
        "b = b.transpose(1,0)\n",
        "# transform back to numpy\n",
        "c = b.numpy()                \n",
        "\n",
        "print(a, type(a))\n",
        "print(b, type(b))\n",
        "print(c, type(c))"
      ],
      "execution_count": 19,
      "outputs": [
        {
          "output_type": "stream",
          "text": [
            "[[1 2]\n",
            " [3 4]] <class 'numpy.ndarray'>\n",
            "tensor([[1, 3],\n",
            "        [2, 4]]) <class 'torch.Tensor'>\n",
            "[[1 3]\n",
            " [2 4]] <class 'numpy.ndarray'>\n"
          ],
          "name": "stdout"
        }
      ]
    },
    {
      "cell_type": "markdown",
      "metadata": {
        "colab_type": "text",
        "id": "b16o5QKFlkwi"
      },
      "source": [
        "-----\n",
        "\n",
        " <font color=\"red\"> **[PROBLEM III]:** </font> "
      ]
    },
    {
      "cell_type": "code",
      "metadata": {
        "colab_type": "code",
        "id": "TC2oFY8llkwj",
        "colab": {}
      },
      "source": [
        "# using these two random matrices do the following:\n",
        "x = np.random.randn(3, 10)\n",
        "y = np.random.randn(4, 10)"
      ],
      "execution_count": 0,
      "outputs": []
    },
    {
      "cell_type": "markdown",
      "metadata": {
        "colab_type": "text",
        "id": "_cE4jEhBlkwm"
      },
      "source": [
        "<span style=\"color:red\"> Do the following: </span>\n",
        "* <span style=\"color:red\">transform $\\mathbf{x}$ and $\\mathbf{y}$ to torch.Tensors</span>\n",
        "* <span style=\"color:red\">perform matrix mutliplication $\\mathbf{r1} = \\mathbf{x} \\cdot \\mathbf{y^T} $</span>  \n",
        "<span style=\"color:blue\"> look in for pytorch function http://pytorch.org/docs/master/torch.html#torch.mm </span>  \n",
        "* <span style=\"color:red\">perform matrix element-wise mutliplication $\\mathbf{r2} = \\mathbf{r1} \\cdot \\mathbf{r1} $</span>  \n",
        "<span style=\"color:blue\"> look in for pytorch function http://pytorch.org/docs/master/torch.html#torch.mul </span> \n",
        "* <span style=\"color:red\">perform scalar addition and scalar multiplication $\\mathbf{r3} = 2 * \\mathbf{r2} + 3 $</span>  \n",
        "* <span style=\"color:red\">transform the result back to numpy </span>\n",
        "\n",
        "-----"
      ]
    },
    {
      "cell_type": "code",
      "metadata": {
        "id": "0SLgtPVsMJmA",
        "colab_type": "code",
        "colab": {}
      },
      "source": [
        "#transform to torch.Tensors\n",
        "x = torch.from_numpy(x)\n",
        "y = torch.from_numpy(y)\n"
      ],
      "execution_count": 0,
      "outputs": []
    },
    {
      "cell_type": "code",
      "metadata": {
        "id": "eUfykfYcMgwW",
        "colab_type": "code",
        "colab": {
          "base_uri": "https://localhost:8080/",
          "height": 73
        },
        "outputId": "93c55c22-e7ff-4092-a672-a6a95f382af6"
      },
      "source": [
        "r1 = torch.mm(x,y.t())\n",
        "r1"
      ],
      "execution_count": 22,
      "outputs": [
        {
          "output_type": "execute_result",
          "data": {
            "text/plain": [
              "tensor([[-2.5251, -0.7097, -0.9409, -3.1219],\n",
              "        [ 0.8049,  6.0579, -4.5327,  1.1364],\n",
              "        [-0.6135,  3.4251, -0.4470,  1.1082]], dtype=torch.float64)"
            ]
          },
          "metadata": {
            "tags": []
          },
          "execution_count": 22
        }
      ]
    },
    {
      "cell_type": "code",
      "metadata": {
        "id": "SzvU9EqXL4Fy",
        "colab_type": "code",
        "colab": {
          "base_uri": "https://localhost:8080/",
          "height": 73
        },
        "outputId": "3f64e192-379d-42d7-cec6-d5b38d0f188c"
      },
      "source": [
        "r2 = torch.mul(r1,r1)\n",
        "r2"
      ],
      "execution_count": 23,
      "outputs": [
        {
          "output_type": "execute_result",
          "data": {
            "text/plain": [
              "tensor([[ 6.3763,  0.5037,  0.8853,  9.7465],\n",
              "        [ 0.6478, 36.6976, 20.5456,  1.2914],\n",
              "        [ 0.3764, 11.7313,  0.1998,  1.2281]], dtype=torch.float64)"
            ]
          },
          "metadata": {
            "tags": []
          },
          "execution_count": 23
        }
      ]
    },
    {
      "cell_type": "code",
      "metadata": {
        "id": "8s9QVfPSNXMx",
        "colab_type": "code",
        "colab": {
          "base_uri": "https://localhost:8080/",
          "height": 73
        },
        "outputId": "97475093-4637-4399-ccdd-56d1eed973b8"
      },
      "source": [
        "r3 = 2*r2 + 3\n",
        "r3"
      ],
      "execution_count": 24,
      "outputs": [
        {
          "output_type": "execute_result",
          "data": {
            "text/plain": [
              "tensor([[15.7525,  4.0073,  4.7706, 22.4929],\n",
              "        [ 4.2957, 76.3952, 44.0911,  5.5828],\n",
              "        [ 3.7529, 26.4625,  3.3996,  5.4562]], dtype=torch.float64)"
            ]
          },
          "metadata": {
            "tags": []
          },
          "execution_count": 24
        }
      ]
    },
    {
      "cell_type": "code",
      "metadata": {
        "id": "dkSSwSfpNwW2",
        "colab_type": "code",
        "colab": {
          "base_uri": "https://localhost:8080/",
          "height": 73
        },
        "outputId": "570a36c4-b7ab-419e-cd1c-41adf0c47180"
      },
      "source": [
        "r3.numpy()"
      ],
      "execution_count": 25,
      "outputs": [
        {
          "output_type": "execute_result",
          "data": {
            "text/plain": [
              "array([[15.75251238,  4.00731333,  4.7705989 , 22.49291184],\n",
              "       [ 4.29568683, 76.39517546, 44.09112074,  5.5827972 ],\n",
              "       [ 3.75285596, 26.46251526,  3.39959147,  5.45615519]])"
            ]
          },
          "metadata": {
            "tags": []
          },
          "execution_count": 25
        }
      ]
    },
    {
      "cell_type": "markdown",
      "metadata": {
        "colab_type": "text",
        "id": "U_VqL45Blkws"
      },
      "source": [
        "### CUDA stuff"
      ]
    },
    {
      "cell_type": "markdown",
      "metadata": {
        "colab_type": "text",
        "id": "pcPi-hOSlkwt"
      },
      "source": [
        "let us run on CUDA! ... if CUDA is available\n",
        "\n",
        "We will use ``torch.device`` objects to move tensors in and out of GPU"
      ]
    },
    {
      "cell_type": "code",
      "metadata": {
        "colab_type": "code",
        "id": "BD0YYuiMOgkv",
        "outputId": "d5aef0cc-ded0-4d89-d10b-4862c9d7ea66",
        "colab": {
          "base_uri": "https://localhost:8080/",
          "height": 36
        }
      },
      "source": [
        "torch.cuda.is_available()"
      ],
      "execution_count": 27,
      "outputs": [
        {
          "output_type": "execute_result",
          "data": {
            "text/plain": [
              "True"
            ]
          },
          "metadata": {
            "tags": []
          },
          "execution_count": 27
        }
      ]
    },
    {
      "cell_type": "code",
      "metadata": {
        "id": "cq7_2KbQQgvT",
        "colab_type": "code",
        "colab": {
          "base_uri": "https://localhost:8080/",
          "height": 335
        },
        "outputId": "e84d3333-e788-4f4c-e05f-a4d5eecdd8ca"
      },
      "source": [
        "!nvidia-smi"
      ],
      "execution_count": 28,
      "outputs": [
        {
          "output_type": "stream",
          "text": [
            "Thu Jul 18 18:17:41 2019       \n",
            "+-----------------------------------------------------------------------------+\n",
            "| NVIDIA-SMI 418.67       Driver Version: 410.79       CUDA Version: 10.0     |\n",
            "|-------------------------------+----------------------+----------------------+\n",
            "| GPU  Name        Persistence-M| Bus-Id        Disp.A | Volatile Uncorr. ECC |\n",
            "| Fan  Temp  Perf  Pwr:Usage/Cap|         Memory-Usage | GPU-Util  Compute M. |\n",
            "|===============================+======================+======================|\n",
            "|   0  Tesla T4            Off  | 00000000:00:04.0 Off |                    0 |\n",
            "| N/A   46C    P8    16W /  70W |     10MiB / 15079MiB |      0%      Default |\n",
            "+-------------------------------+----------------------+----------------------+\n",
            "                                                                               \n",
            "+-----------------------------------------------------------------------------+\n",
            "| Processes:                                                       GPU Memory |\n",
            "|  GPU       PID   Type   Process name                             Usage      |\n",
            "|=============================================================================|\n",
            "|  No running processes found                                                 |\n",
            "+-----------------------------------------------------------------------------+\n"
          ],
          "name": "stdout"
        }
      ]
    },
    {
      "cell_type": "code",
      "metadata": {
        "colab_type": "code",
        "id": "EwUaC4nXlkwv",
        "outputId": "9e246c05-fbb3-4d23-b302-07f8e2789c35",
        "colab": {
          "base_uri": "https://localhost:8080/",
          "height": 241
        }
      },
      "source": [
        "if torch.cuda.is_available():\n",
        "    y = torch.ones_like(x, device=\"cuda\")  # directly create a tensor on GPU\n",
        "    x = x.to(\"cuda\")                       # or just use strings ``.to(\"cuda\")``\n",
        "    z = x + y\n",
        "    print(z)\n",
        "    print(z.to(\"cpu\", torch.double))       # ``.to`` can also change dtype together!"
      ],
      "execution_count": 29,
      "outputs": [
        {
          "output_type": "stream",
          "text": [
            "tensor([[ 1.4967,  0.8617,  1.6477,  2.5230,  0.7658,  0.7659,  2.5792,  1.7674,\n",
            "          0.5305,  1.5426],\n",
            "        [ 0.5366,  0.5343,  1.2420, -0.9133, -0.7249,  0.4377, -0.0128,  1.3142,\n",
            "          0.0920, -0.4123],\n",
            "        [ 2.4656,  0.7742,  1.0675, -0.4247,  0.4556,  1.1109, -0.1510,  1.3757,\n",
            "          0.3994,  0.7083]], device='cuda:0', dtype=torch.float64)\n",
            "tensor([[ 1.4967,  0.8617,  1.6477,  2.5230,  0.7658,  0.7659,  2.5792,  1.7674,\n",
            "          0.5305,  1.5426],\n",
            "        [ 0.5366,  0.5343,  1.2420, -0.9133, -0.7249,  0.4377, -0.0128,  1.3142,\n",
            "          0.0920, -0.4123],\n",
            "        [ 2.4656,  0.7742,  1.0675, -0.4247,  0.4556,  1.1109, -0.1510,  1.3757,\n",
            "          0.3994,  0.7083]], dtype=torch.float64)\n"
          ],
          "name": "stdout"
        }
      ]
    },
    {
      "cell_type": "markdown",
      "metadata": {
        "colab_type": "text",
        "id": "nHxHgvOfRFCA"
      },
      "source": [
        "###  Autograd: automatic differentiation"
      ]
    },
    {
      "cell_type": "markdown",
      "metadata": {
        "colab_type": "text",
        "id": "wux_2jqxRBs0"
      },
      "source": [
        "relevant tutorial\n",
        "https://pytorch.org/tutorials/beginner/blitz/autograd_tutorial.html#sphx-glr-beginner-blitz-autograd-tutorial-py\n"
      ]
    },
    {
      "cell_type": "markdown",
      "metadata": {
        "colab_type": "text",
        "id": "4FZyAlm2lkw0"
      },
      "source": [
        "*torch.Tensor* is the central class of the package. If you set its attribute *.requires_grad* as True, it starts to track all operations on it. When you finish your computation you can call *.backward()* and have all the gradients computed automatically. The gradient for this tensor will be accumulated into .grad attribute. "
      ]
    },
    {
      "cell_type": "markdown",
      "metadata": {
        "colab_type": "text",
        "id": "3XsvhS5-lkw1"
      },
      "source": [
        "**use of autograd**\n",
        "\n",
        "Lets start with simple example.\n",
        "Consider the following function:\n",
        "$$f = (x + y) \\cdot z$$\n",
        "\n",
        "For concretness let's take $x=2$, $y=-7$, $z=3$. The 'forward' calculation is shown in <span style=\"color:green\"> green </span> on the image below.\n",
        "\n",
        "Automaic differentiation provides the elegant tool to calculate derivatives of $f$ with respect to all variables, by 'backward' path.\n",
        "\n",
        "$$f = (x + y) \\cdot z = u \\cdot z $$\n",
        "\n",
        "$$ \\frac{\\partial f}{\\partial u} = z $$\n",
        "\n",
        "$$ \\frac{\\partial f}{\\partial z} = u = -5 $$\n",
        "\n",
        "$$ \\frac{\\partial f}{\\partial x} = \\frac{\\partial f}{\\partial u} \\cdot \\frac{\\partial u}{\\partial x} = z = 3$$\n",
        "\n",
        "$$ \\frac{\\partial f}{\\partial y} = \\frac{\\partial f}{\\partial u} \\cdot \\frac{\\partial u}{\\partial y} = z = 3$$\n",
        "\n",
        "![comp_graph_1](https://drive.google.com/uc?id=1jTDQCsT5jDmiIfK2Ay1n1MlCDNS8swYf)"
      ]
    },
    {
      "cell_type": "code",
      "metadata": {
        "colab_type": "code",
        "id": "rWdfj0DYlkw2",
        "outputId": "fa5b274b-4b3e-4fa9-a216-f957711d0dee",
        "colab": {
          "base_uri": "https://localhost:8080/",
          "height": 73
        }
      },
      "source": [
        "# Create tensors.\n",
        "# ('requires_grad' is False by default)\n",
        "x = torch.tensor([2.], requires_grad=True)\n",
        "y = torch.tensor([-7.], requires_grad=True)\n",
        "z = torch.tensor([3.], requires_grad=True)\n",
        "\n",
        "# Build a computational graph.\n",
        "f = (x + y) * z   \n",
        "\n",
        "# Compute gradients.\n",
        "f.backward()\n",
        "\n",
        "# Print out the gradients.\n",
        "print(x.grad)    \n",
        "print(y.grad)    \n",
        "print(z.grad) "
      ],
      "execution_count": 30,
      "outputs": [
        {
          "output_type": "stream",
          "text": [
            "tensor([3.])\n",
            "tensor([3.])\n",
            "tensor([-5.])\n"
          ],
          "name": "stdout"
        }
      ]
    },
    {
      "cell_type": "code",
      "metadata": {
        "id": "wCoWZQWSRuVC",
        "colab_type": "code",
        "colab": {
          "base_uri": "https://localhost:8080/",
          "height": 36
        },
        "outputId": "5b944dfa-20f4-4f56-bc62-01be6a258611"
      },
      "source": [
        "f"
      ],
      "execution_count": 31,
      "outputs": [
        {
          "output_type": "execute_result",
          "data": {
            "text/plain": [
              "tensor([-15.], grad_fn=<MulBackward0>)"
            ]
          },
          "metadata": {
            "tags": []
          },
          "execution_count": 31
        }
      ]
    },
    {
      "cell_type": "markdown",
      "metadata": {
        "colab_type": "text",
        "id": "fO2yZn6flkw5"
      },
      "source": [
        " <font color=\"red\">  **[PROBLEM IV]**: </font> \n",
        "\n",
        " Next we will consider the computational graph of the following function \n",
        "\n",
        "$$f = \\frac{1}{1 + exp^{-(w_0 \\cdot x_0 + w_1 \\cdot x_1 + b )}} = \\frac{1}{1 + exp^{-(\\mathbf{w} \\cdot \\mathbf{x} + b )}}$$\n",
        "\n",
        "\n",
        "![comp_graph_2](https://drive.google.com/uc?id=1YcYQ5KEp7ZCiXR_Pzr9JYI-4t5wWV4ll)\n",
        "\n",
        " We are interested in computing partial derivatives: \n",
        "\n",
        "$$ \\frac{\\partial f}{\\partial \\mathbf{w}}  $$ \n",
        "\n",
        "$$ \\frac{\\partial f}{\\partial b}  $$ \n",
        "\n",
        "$$ \\frac{\\partial f}{\\partial \\mathbf{x}}  $$ \n",
        "\n",
        "define $\\{x_0, x_1\\}$ and $\\{w_0, w_1\\}$ as vector variables $\\mathbf{x}$ and $\\mathbf{w}$\n",
        "look in for pytorch exponent function http://pytorch.org/docs/master/torch.html#torch.exp \n",
        "use matrix operations\n",
        "\n",
        "You should get the numbers the same as on the figure"
      ]
    },
    {
      "cell_type": "code",
      "metadata": {
        "id": "ybVCukKYcLeO",
        "colab_type": "code",
        "colab": {
          "base_uri": "https://localhost:8080/",
          "height": 36
        },
        "outputId": "c093aa9b-6696-4e8e-e488-87c2cc10a7c7"
      },
      "source": [
        "x"
      ],
      "execution_count": 60,
      "outputs": [
        {
          "output_type": "execute_result",
          "data": {
            "text/plain": [
              "tensor([-2.,  1.], requires_grad=True)"
            ]
          },
          "metadata": {
            "tags": []
          },
          "execution_count": 60
        }
      ]
    },
    {
      "cell_type": "code",
      "metadata": {
        "id": "z4ERLldllnAh",
        "colab_type": "code",
        "colab": {
          "base_uri": "https://localhost:8080/",
          "height": 36
        },
        "outputId": "11b4737f-5db3-4479-f537-adda3fc57e47"
      },
      "source": [
        "w"
      ],
      "execution_count": 61,
      "outputs": [
        {
          "output_type": "execute_result",
          "data": {
            "text/plain": [
              "tensor([3., 5.], requires_grad=True)"
            ]
          },
          "metadata": {
            "tags": []
          },
          "execution_count": 61
        }
      ]
    },
    {
      "cell_type": "code",
      "metadata": {
        "id": "nmVkxsL8lpcT",
        "colab_type": "code",
        "colab": {
          "base_uri": "https://localhost:8080/",
          "height": 36
        },
        "outputId": "2b97546b-4e5d-4207-96f3-f7cac5adb207"
      },
      "source": [
        "torch.matmul(w,x)"
      ],
      "execution_count": 68,
      "outputs": [
        {
          "output_type": "execute_result",
          "data": {
            "text/plain": [
              "tensor(-1., grad_fn=<DotBackward>)"
            ]
          },
          "metadata": {
            "tags": []
          },
          "execution_count": 68
        }
      ]
    },
    {
      "cell_type": "code",
      "metadata": {
        "colab_type": "code",
        "id": "vDpuQUuOlkw6",
        "outputId": "1b0c6bd3-19af-4b2f-91e6-96ad33583250",
        "colab": {
          "base_uri": "https://localhost:8080/",
          "height": 73
        }
      },
      "source": [
        "w = torch.tensor([3., 5.], requires_grad=True)\n",
        "x = torch.tensor([-2., 1.], requires_grad=True)\n",
        "b = torch.tensor([2.], requires_grad=True)\n",
        "\n",
        "#YOUR CODE HERE\n",
        "# Build a computational graph.\n",
        "f =  1/(1+torch.exp(-(torch.matmul(w,x)+b)))\n",
        "\n",
        "# Compute gradients.\n",
        "f.backward()\n",
        "\n",
        "# Print out the gradients.\n",
        "print(w.grad)\n",
        "print(x.grad)      \n",
        "print(b.grad) "
      ],
      "execution_count": 70,
      "outputs": [
        {
          "output_type": "stream",
          "text": [
            "tensor([-0.3932,  0.1966])\n",
            "tensor([0.5898, 0.9831])\n",
            "tensor([0.1966])\n"
          ],
          "name": "stdout"
        }
      ]
    },
    {
      "cell_type": "markdown",
      "metadata": {
        "colab_type": "text",
        "id": "nH64V6yslkxG"
      },
      "source": [
        "One can make gradient zero by *.zero_()* command"
      ]
    },
    {
      "cell_type": "code",
      "metadata": {
        "colab_type": "code",
        "id": "Oc4EG1iglkxG",
        "outputId": "86896b8e-c941-4e45-90d2-5f6143691953",
        "colab": {
          "base_uri": "https://localhost:8080/",
          "height": 36
        }
      },
      "source": [
        "w.grad.zero_()\n",
        "print(w.grad)"
      ],
      "execution_count": 71,
      "outputs": [
        {
          "output_type": "stream",
          "text": [
            "tensor([0., 0.])\n"
          ],
          "name": "stdout"
        }
      ]
    },
    {
      "cell_type": "code",
      "metadata": {
        "colab_type": "code",
        "id": "QMRhrhwGNuRs",
        "colab": {}
      },
      "source": [
        ""
      ],
      "execution_count": 0,
      "outputs": []
    }
  ]
}