{
  "nbformat": 4,
  "nbformat_minor": 0,
  "metadata": {
    "colab": {
      "name": "cv5_module5_a2_simple_network.ipynb",
      "version": "0.3.2",
      "provenance": [],
      "collapsed_sections": []
    },
    "kernelspec": {
      "display_name": "Python 3",
      "language": "python",
      "name": "python3"
    },
    "language_info": {
      "codemirror_mode": {
        "name": "ipython",
        "version": 3
      },
      "file_extension": ".py",
      "mimetype": "text/x-python",
      "name": "python",
      "nbconvert_exporter": "python",
      "pygments_lexer": "ipython3",
      "version": "3.6.0"
    }
  },
  "cells": [
    {
      "cell_type": "markdown",
      "metadata": {
        "colab_type": "text",
        "id": "x69kuf4SUkCA"
      },
      "source": [
        "*Notebook conventions:*\n",
        "\n",
        "* <font color=\"red\">assignment problem</font>. The red color indicates the task that should be done\n",
        "* <font color=\"green\">debugging</font>. The green tells you what is expected outcome. Its primarily goal is to help you get the correct answer\n",
        "* <font color=\"blue\">comments, hints</font>.\n",
        "\n",
        "Assignment 2 (Simple network)\n",
        "======================\n",
        "\n"
      ]
    },
    {
      "cell_type": "markdown",
      "metadata": {
        "colab_type": "text",
        "id": "Z8MRDiGWUkCB"
      },
      "source": [
        "## Preliminaries"
      ]
    },
    {
      "cell_type": "code",
      "metadata": {
        "colab_type": "code",
        "id": "W_5ydpwdVTj6",
        "outputId": "3534284d-824d-4499-c2ae-e521ae25add1",
        "colab": {
          "base_uri": "https://localhost:8080/",
          "height": 56
        }
      },
      "source": [
        "from google.colab import drive\n",
        "drive.mount('/content/drive')"
      ],
      "execution_count": 247,
      "outputs": [
        {
          "output_type": "stream",
          "text": [
            "Drive already mounted at /content/drive; to attempt to forcibly remount, call drive.mount(\"/content/drive\", force_remount=True).\n"
          ],
          "name": "stdout"
        }
      ]
    },
    {
      "cell_type": "code",
      "metadata": {
        "colab_type": "code",
        "id": "AN11J376UkCC",
        "colab": {}
      },
      "source": [
        "# for compatability issues \n",
        "from __future__ import print_function"
      ],
      "execution_count": 0,
      "outputs": []
    },
    {
      "cell_type": "code",
      "metadata": {
        "colab_type": "code",
        "id": "IfCU7c5KUkCG",
        "colab": {}
      },
      "source": [
        "import numpy as np\n",
        "import os\n",
        "from PIL import Image\n",
        "import matplotlib.pyplot as plt"
      ],
      "execution_count": 0,
      "outputs": []
    },
    {
      "cell_type": "code",
      "metadata": {
        "colab_type": "code",
        "id": "pKJJpL4JUkCI",
        "colab": {}
      },
      "source": [
        "import torch\n",
        "import torch.nn as nn\n",
        "import torch.nn.functional as F"
      ],
      "execution_count": 0,
      "outputs": []
    },
    {
      "cell_type": "code",
      "metadata": {
        "colab_type": "code",
        "id": "1sqUeL6jUkCL",
        "colab": {
          "base_uri": "https://localhost:8080/",
          "height": 54
        },
        "outputId": "67275232-e7ff-40d9-fbdb-ba1f764ba516"
      },
      "source": [
        "# to make interactive plotting possible\n",
        "%matplotlib inline\n",
        "# for auto-reloading external modules\n",
        "%load_ext autoreload\n",
        "%autoreload 2"
      ],
      "execution_count": 251,
      "outputs": [
        {
          "output_type": "stream",
          "text": [
            "The autoreload extension is already loaded. To reload it, use:\n",
            "  %reload_ext autoreload\n"
          ],
          "name": "stdout"
        }
      ]
    },
    {
      "cell_type": "code",
      "metadata": {
        "colab_type": "code",
        "id": "G2v18tmDUkCN",
        "colab": {}
      },
      "source": [
        "# make plots a bit nicer\n",
        "plt.matplotlib.rcParams.update({'font.size': 18, 'font.family': 'serif'})"
      ],
      "execution_count": 0,
      "outputs": []
    },
    {
      "cell_type": "code",
      "metadata": {
        "colab_type": "code",
        "id": "ZrKaje3eUkCQ",
        "colab": {}
      },
      "source": [
        "# random seed settings\n",
        "torch.manual_seed(42)\n",
        "np.random.seed(42)\n",
        "\n",
        "# data type (useful to have in pytorch)\n",
        "dtype_np = np.float64\n",
        "dtype_torch = torch.FloatTensor"
      ],
      "execution_count": 0,
      "outputs": []
    },
    {
      "cell_type": "markdown",
      "metadata": {
        "colab_type": "text",
        "id": "SOnnHO4_XN7n"
      },
      "source": [
        "### Pathes"
      ]
    },
    {
      "cell_type": "code",
      "metadata": {
        "colab_type": "code",
        "id": "9RORVALWXQJp",
        "colab": {}
      },
      "source": [
        "path_data = \"drive/My Drive/Colab Notebooks/data/toy_data/data_class_train.txt\""
      ],
      "execution_count": 0,
      "outputs": []
    },
    {
      "cell_type": "markdown",
      "metadata": {
        "colab_type": "text",
        "id": "g8wxAx0AUkCT"
      },
      "source": [
        "### Data (playground)"
      ]
    },
    {
      "cell_type": "code",
      "metadata": {
        "colab_type": "code",
        "id": "w0z3rxUUUkCT",
        "colab": {}
      },
      "source": [
        "# load data\n",
        "data = np.loadtxt(path_data)\n",
        "dataX = data[:,0:2]\n",
        "dataY = data[:,2]"
      ],
      "execution_count": 0,
      "outputs": []
    },
    {
      "cell_type": "code",
      "metadata": {
        "colab_type": "code",
        "id": "fzE1sHScUkCW",
        "colab": {}
      },
      "source": [
        "n_samples = data.shape[0]\n",
        "dim_in = 2 # two features\n",
        "dim_out = 3 # three classes\n",
        "\n",
        "n_train = int(n_samples * 0.7)\n",
        "n_test = n_samples - n_train"
      ],
      "execution_count": 0,
      "outputs": []
    },
    {
      "cell_type": "code",
      "metadata": {
        "colab_type": "code",
        "id": "VL-MOE60UkCZ",
        "colab": {}
      },
      "source": [
        "# train-test partition\n",
        "perm = np.random.permutation(n_samples)\n",
        "train_indx = perm[:n_train]\n",
        "test_indx = perm[n_train:]\n",
        "\n",
        "dataX_train, dataY_train = dataX[train_indx,:], dataY[train_indx]\n",
        "dataX_test, dataY_test = dataX[test_indx,:], dataY[test_indx]"
      ],
      "execution_count": 0,
      "outputs": []
    },
    {
      "cell_type": "code",
      "metadata": {
        "colab_type": "code",
        "id": "lyiIizM6UkCd",
        "outputId": "57ae910b-0eff-4c98-b227-6225025684c7",
        "colab": {
          "base_uri": "https://localhost:8080/",
          "height": 353
        }
      },
      "source": [
        "# visualize data\n",
        "plt.figure(figsize=(10,5))\n",
        "plt.plot(dataX_train[dataY_train==0,0], dataX_train[dataY_train==0,1],'ob', label=\"class1\")\n",
        "plt.plot(dataX_train[dataY_train==1,0], dataX_train[dataY_train==1,1],'og', label=\"class2\")\n",
        "plt.plot(dataX_train[dataY_train==2,0], dataX_train[dataY_train==2,1],'or', label=\"class3\")\n",
        "\n",
        "plt.plot(dataX_test[:,0], dataX_test[:,1],'xk', label=\"test\")\n",
        "\n",
        "plt.xlabel('feature #1')\n",
        "plt.ylabel('feature #2')\n",
        "plt.legend()\n",
        "plt.xlim(-9, 9)\n",
        "plt.ylim(-5, 12);"
      ],
      "execution_count": 258,
      "outputs": [
        {
          "output_type": "display_data",
          "data": {
            "image/png": "[encoded data removed]",
            "text/plain": [
              "<Figure size 720x360 with 1 Axes>"
            ]
          },
          "metadata": {
            "tags": []
          }
        }
      ]
    },
    {
      "cell_type": "markdown",
      "metadata": {
        "colab_type": "text",
        "id": "emywYf7kUkCi"
      },
      "source": [
        "## Two-layer Network (by hand)\n",
        "\n",
        "\n",
        "$$x_{hidden} = RELU(x  \\cdot W_1 + b_1)$$\n",
        "$$y_{pred} = x_{hidden} \\cdot W_2 + b_2$$"
      ]
    },
    {
      "cell_type": "code",
      "metadata": {
        "colab_type": "code",
        "id": "kvqsZejNUkCj",
        "colab": {}
      },
      "source": [
        "dim_hidden = 100 # hidden dimension"
      ],
      "execution_count": 0,
      "outputs": []
    },
    {
      "cell_type": "code",
      "metadata": {
        "colab_type": "code",
        "id": "7ujFGnvmUkCl",
        "colab": {}
      },
      "source": [
        "# input \n",
        "x = torch.from_numpy(dataX_train).type(dtype_torch)\n",
        "y = torch.from_numpy(dataY_train).type(torch.LongTensor)"
      ],
      "execution_count": 0,
      "outputs": []
    },
    {
      "cell_type": "markdown",
      "metadata": {
        "colab_type": "text",
        "id": "c0FLztlqUkCo"
      },
      "source": [
        "* Weights and biases"
      ]
    },
    {
      "cell_type": "markdown",
      "metadata": {
        "colab_type": "text",
        "id": "pm0AbfS_UkCo"
      },
      "source": [
        " <font color=\"red\"> **[PROBLEM I]**: </font>   \n",
        " <font color=\"red\"> Fill the missing part (weights and biases for the output layer) </font>  "
      ]
    },
    {
      "cell_type": "code",
      "metadata": {
        "colab_type": "code",
        "id": "P6EaCFsSUkCp",
        "colab": {}
      },
      "source": [
        "# Randomly initialize weights\n",
        "w1_value = np.random.randn(dim_in, dim_hidden)\n",
        "w2_value = np.random.randn(dim_hidden, dim_out)# YOUR CODE HERE\n",
        "\n",
        "# Randomly initialize biases\n",
        "b1_value = np.random.randn(dim_hidden)\n",
        "b2_value =np.random.randn(dim_out)# YOUR CODE HERE"
      ],
      "execution_count": 0,
      "outputs": []
    },
    {
      "cell_type": "code",
      "metadata": {
        "colab_type": "code",
        "id": "4j7AOmZNUkCr",
        "colab": {}
      },
      "source": [
        "w1 = torch.from_numpy(w1_value).type(dtype_torch).requires_grad_(True)\n",
        "w2 = torch.from_numpy(w2_value).type(dtype_torch).requires_grad_(True)\n",
        "b1 = torch.from_numpy(b1_value).type(dtype_torch).requires_grad_(True)\n",
        "b2 = torch.from_numpy(b2_value).type(dtype_torch).requires_grad_(True)"
      ],
      "execution_count": 0,
      "outputs": []
    },
    {
      "cell_type": "markdown",
      "metadata": {
        "colab_type": "text",
        "id": "KB_MBRG-UkCu"
      },
      "source": [
        "* Loss (we will use cross-entropy loss), see documentation for details http://pytorch.org/docs/master/nn.html#torch.nn.CrossEntropyLoss"
      ]
    },
    {
      "cell_type": "code",
      "metadata": {
        "colab_type": "code",
        "id": "NQw_LYFbUkCv",
        "colab": {}
      },
      "source": [
        "criterion = nn.CrossEntropyLoss()"
      ],
      "execution_count": 0,
      "outputs": []
    },
    {
      "cell_type": "markdown",
      "metadata": {
        "colab_type": "text",
        "id": "cKSu08rFUkCx"
      },
      "source": [
        "* learning parameters"
      ]
    },
    {
      "cell_type": "code",
      "metadata": {
        "colab_type": "code",
        "id": "f5MTxAyPUkCy",
        "colab": {}
      },
      "source": [
        "learning_rate = 1e-3\n",
        "n_iteration = 500"
      ],
      "execution_count": 0,
      "outputs": []
    },
    {
      "cell_type": "markdown",
      "metadata": {
        "colab_type": "text",
        "id": "PDYPUHoDUkC0"
      },
      "source": [
        " <font color=\"red\"> **[PROBLEM II]**: </font>   \n",
        " <font color=\"red\"> Fill the missing part (last operation in forward pass to calculate *y_pred*) </font>  "
      ]
    },
    {
      "cell_type": "code",
      "metadata": {
        "id": "7zc5C4YVV3oM",
        "colab_type": "code",
        "colab": {
          "base_uri": "https://localhost:8080/",
          "height": 110
        },
        "outputId": "39e14cea-3f87-408f-8010-b560f7abb2a7"
      },
      "source": [
        "logger = {}\n",
        "logger['iteration'] = []\n",
        "logger['loss_iteration'] = []\n",
        "\n",
        "for t in range(n_iteration):  \n",
        " \n",
        "    # forward pass\n",
        "    x_hidden = x.mm(w1) + b1\n",
        "    x_hidden_act = x_hidden.clamp(min=0) # apply RELU\n",
        "    y_pred = x_hidden_act.mm(w2) + b2 # YOUR CODE HERE\n",
        "    \n",
        "    # compute loss\n",
        "    loss = criterion(y_pred, y)\n",
        "\n",
        "    # backprop\n",
        "    loss.backward()\n",
        "\n",
        "    # update weights using gradient descent  \n",
        "    w1.data -= learning_rate * w1.grad\n",
        "    w2.data -= learning_rate * w2.grad\n",
        "    b1.data -= learning_rate * b1.grad\n",
        "    b2.data -= learning_rate * b2.grad\n",
        "\n",
        "    # manually zero the gradients\n",
        "    w1.grad.zero_()\n",
        "    w2.grad.zero_()\n",
        "    b1.grad.zero_()\n",
        "    b2.grad.zero_()      \n",
        "    \n",
        "    # reporting & logging       \n",
        "    if t % 100 == 0:\n",
        "        print(t, loss.item())\n",
        "        \n",
        "    logger['iteration'] += [t]\n",
        "    logger['loss_iteration'] += [loss.item()]"
      ],
      "execution_count": 265,
      "outputs": [
        {
          "output_type": "stream",
          "text": [
            "0 20.01432228088379\n",
            "100 1.3266934156417847\n",
            "200 0.4813610315322876\n",
            "300 0.3851568400859833\n",
            "400 0.3476109206676483\n"
          ],
          "name": "stdout"
        }
      ]
    },
    {
      "cell_type": "markdown",
      "metadata": {
        "colab_type": "text",
        "id": "ZRVfrCSjUkC6"
      },
      "source": [
        " <font color=\"green\"> After visualizing the loss (cell below) you should see something like this </font>\n",
        "\n",
        "![loss_toy.png](https://drive.google.com/uc?id=1wzsrZQfIOFueYmFp5KnhG-iDFCnRkO_v)"
      ]
    },
    {
      "cell_type": "code",
      "metadata": {
        "colab_type": "code",
        "id": "2thNWH0QUkC7",
        "outputId": "45fbf82b-c713-4a08-84e3-73a28d3d8664",
        "colab": {
          "base_uri": "https://localhost:8080/",
          "height": 353
        }
      },
      "source": [
        "# visualize loss\n",
        "plt.figure(figsize=(10,5))\n",
        "plt.plot(logger['iteration'], logger['loss_iteration'],'ob', label=\"loss\")\n",
        "\n",
        "plt.xlabel('iteration')\n",
        "plt.ylabel('loss');"
      ],
      "execution_count": 266,
      "outputs": [
        {
          "output_type": "display_data",
          "data": {
            "image/png": "[encoded data removed]",
            "text/plain": [
              "<Figure size 720x360 with 1 Axes>"
            ]
          },
          "metadata": {
            "tags": []
          }
        }
      ]
    },
    {
      "cell_type": "markdown",
      "metadata": {
        "colab_type": "text",
        "id": "PlnAncYjUkDC"
      },
      "source": [
        "<font color=\"red\"> **[PROBLEM III]**: </font>   \n",
        "<font color=\"red\"> Implement the fuction which takes x and predicts its class </font>  "
      ]
    },
    {
      "cell_type": "code",
      "metadata": {
        "colab_type": "code",
        "id": "rWXjnPprUkDC",
        "colab": {}
      },
      "source": [
        "def predict(x, w1, b1, w2, b2, dtype_torch=torch.FloatTensor):\n",
        "    \"\"\"\n",
        "    Prediction based on two-layer model (by hand)\n",
        "    \n",
        "    Args:\n",
        "        x (numpy.array): sample\n",
        "        w1, b1, w2, b2 (torch.Tensor) : weights and biases \n",
        "    Returns:\n",
        "        scalar: predicted class\n",
        "    \"\"\"\n",
        "    t = torch.from_numpy(x).type(dtype_torch)\n",
        "    forward_pass =  (t.matmul(w1) + b1).clamp(min=0).matmul(w2) + b2 # YOUR CODE HERE\n",
        "    #t = torch.from_numpy(x).type(dtype_torch)\n",
        "    #x_hidden = t.matmul(w1) + b1\n",
        "    #x_hidden_act = x_hidden.clamp(min=0) # apply RELU\n",
        "    #forward_pass = x_hidden_act.matmul(w2) + b2 # YOUR CODE HERE\n",
        "    return np.argmax(forward_pass.data.numpy())"
      ],
      "execution_count": 0,
      "outputs": []
    },
    {
      "cell_type": "markdown",
      "metadata": {
        "colab_type": "text",
        "id": "_45l9ft5UkDE"
      },
      "source": [
        "<span style=\"color:green\"> by running the following command you should get number bigger than 8 </span>"
      ]
    },
    {
      "cell_type": "code",
      "metadata": {
        "colab_type": "code",
        "id": "7dgMC_-XUkDF",
        "outputId": "fb155ca7-4ddd-4c26-bb22-d4ec8fb5702b",
        "colab": {
          "base_uri": "https://localhost:8080/",
          "height": 36
        }
      },
      "source": [
        "np.sum(np.equal([predict(x, w1, b1, w2, b2) for x in dataX_train[:10]], [0, 2, 0, 1, 0, 2, 0, 0, 1, 0]))"
      ],
      "execution_count": 325,
      "outputs": [
        {
          "output_type": "execute_result",
          "data": {
            "text/plain": [
              "10"
            ]
          },
          "metadata": {
            "tags": []
          },
          "execution_count": 325
        }
      ]
    },
    {
      "cell_type": "markdown",
      "metadata": {
        "colab_type": "text",
        "id": "H-va53cfUkDI"
      },
      "source": [
        "* Calculate accuracy"
      ]
    },
    {
      "cell_type": "code",
      "metadata": {
        "colab_type": "code",
        "id": "Mh19f7hxUkDJ",
        "colab": {}
      },
      "source": [
        "def get_accuracy(y, y_pred):\n",
        "    \"\"\"\n",
        "    Calculate accuracy given y and y_predicted\n",
        "    \n",
        "    Args:\n",
        "        y (numpy.array): ground truth\n",
        "        y_pred (numpy.array): predictated values\n",
        "         \n",
        "    Returns:\n",
        "        scalar: accuracy\n",
        "    \"\"\"\n",
        "    n_samples = y.shape[0]\n",
        "    return np.sum(y == y_pred)/n_samples * 100"
      ],
      "execution_count": 0,
      "outputs": []
    },
    {
      "cell_type": "code",
      "metadata": {
        "colab_type": "code",
        "id": "nWOLHYHSUkDL",
        "outputId": "f7c4d2e8-c67e-40ac-dabc-c8565833fc47",
        "colab": {
          "base_uri": "https://localhost:8080/",
          "height": 36
        }
      },
      "source": [
        "y_train_predict = np.zeros(n_train)\n",
        "for i in range(n_train):\n",
        "    y_train_predict[i] = predict(dataX_train[i], w1, b1, w2, b2)\n",
        "\n",
        "print(\"Train accuracy: %f\" % get_accuracy(y_train_predict, dataY_train))"
      ],
      "execution_count": 327,
      "outputs": [
        {
          "output_type": "stream",
          "text": [
            "Train accuracy: 92.698413\n"
          ],
          "name": "stdout"
        }
      ]
    },
    {
      "cell_type": "markdown",
      "metadata": {
        "colab_type": "text",
        "id": "QXY0TXHoUkDO"
      },
      "source": [
        "<font color=\"red\"> **[PROBLEM IV]**: </font>   \n",
        "<font color=\"red\"> Calculate accuracy on the test set </font>"
      ]
    },
    {
      "cell_type": "code",
      "metadata": {
        "colab_type": "code",
        "id": "h_JSf4NcUkDP",
        "outputId": "014ff96f-4d96-4870-da36-c4212e9dbcdb",
        "colab": {
          "base_uri": "https://localhost:8080/",
          "height": 36
        }
      },
      "source": [
        "#YOUR CODE HERE\n",
        "y_test_predict = np.zeros(n_test)\n",
        "for i in range(n_test):\n",
        "    y_test_predict[i] = predict(dataX_test[i], w1, b1, w2, b2)\n",
        "\n",
        "print(\"Train accuracy: %f\" % get_accuracy(y_test_predict, dataY_test))"
      ],
      "execution_count": 328,
      "outputs": [
        {
          "output_type": "stream",
          "text": [
            "Train accuracy: 91.111111\n"
          ],
          "name": "stdout"
        }
      ]
    },
    {
      "cell_type": "markdown",
      "metadata": {
        "colab_type": "text",
        "id": "1fPujWJSUkDR"
      },
      "source": [
        "* Visualize decision boundary"
      ]
    },
    {
      "cell_type": "code",
      "metadata": {
        "colab_type": "code",
        "id": "qg0G8AhXUkDR",
        "outputId": "a5dcf25b-3b0c-4edc-cfed-513b38ad9bad",
        "colab": {
          "base_uri": "https://localhost:8080/",
          "height": 353
        }
      },
      "source": [
        "Nspace = 100\n",
        "x1space = np.linspace(-9, 9, Nspace)\n",
        "x2space = np.linspace(-5, 12, Nspace)\n",
        "X,Y = np.meshgrid(x1space, x2space)\n",
        "\n",
        "Z = np.zeros((Nspace,Nspace))\n",
        "for i in range(Nspace):\n",
        "    for j in range(Nspace):\n",
        "        x1 = x1space[j]\n",
        "        y1 = x2space[i]\n",
        "        x = np.array([x1,y1])\n",
        "        Z[i,j] = predict(x, w1, b1, w2, b2)\n",
        "\n",
        "plt.figure(figsize=(10,5))\n",
        "plt.pcolor(X, Y, Z, vmin=abs(Z).min(), vmax=abs(Z).max())\n",
        "\n",
        "plt.xlabel('feature #1')\n",
        "plt.ylabel('feature #2')\n",
        "plt.xlim(-9, 9)\n",
        "plt.ylim(-5, 12);"
      ],
      "execution_count": 329,
      "outputs": [
        {
          "output_type": "display_data",
          "data": {
            "image/png": "[encoded data removed]",
            "text/plain": [
              "<Figure size 720x360 with 1 Axes>"
            ]
          },
          "metadata": {
            "tags": []
          }
        }
      ]
    },
    {
      "cell_type": "markdown",
      "metadata": {
        "colab_type": "text",
        "id": "QgUtCc5dUkDV"
      },
      "source": [
        "## Two-layer Network, again ...  (with nn package) \n",
        "\n",
        "$$x_{hidden} = RELU(x  \\cdot W_1 + b_1)$$\n",
        "$$y_{pred} = x_{hidden} \\cdot W_2 + b_2$$"
      ]
    },
    {
      "cell_type": "markdown",
      "metadata": {
        "colab_type": "text",
        "id": "a5dNWjSAUkDV"
      },
      "source": [
        "After some hard work we will use torch with all its power and elegance.  "
      ]
    },
    {
      "cell_type": "markdown",
      "metadata": {
        "colab_type": "text",
        "id": "AtPNVmOUUkDW"
      },
      "source": [
        "* Model"
      ]
    },
    {
      "cell_type": "code",
      "metadata": {
        "colab_type": "code",
        "id": "qgAnFXS2Zz_V",
        "colab": {}
      },
      "source": [
        "class Net(nn.Module):\n",
        "  \n",
        "  def __init__(self, dim_in, dim_hidden, dim_out):\n",
        "    super(Net, self).__init__()\n",
        "    self.fc1 = nn.Linear(dim_in, dim_hidden)\n",
        "    self.fc2 = nn.Linear(dim_hidden, dim_out)\n",
        "    \n",
        "  def forward(self, x):\n",
        "    x = self.fc2(F.relu(self.fc1(x)))\n",
        "    return x"
      ],
      "execution_count": 0,
      "outputs": []
    },
    {
      "cell_type": "code",
      "metadata": {
        "colab_type": "code",
        "id": "PW3AQyDnUkDa",
        "colab": {}
      },
      "source": [
        "model = Net(dim_in, dim_hidden, dim_out)"
      ],
      "execution_count": 0,
      "outputs": []
    },
    {
      "cell_type": "markdown",
      "metadata": {
        "colab_type": "text",
        "id": "AJY2KW22UkDc"
      },
      "source": [
        "* Loss (we will use cross-entropy loss)"
      ]
    },
    {
      "cell_type": "code",
      "metadata": {
        "colab_type": "code",
        "id": "O0JWFwx7UkDd",
        "colab": {}
      },
      "source": [
        "criterion = nn.CrossEntropyLoss()"
      ],
      "execution_count": 0,
      "outputs": []
    },
    {
      "cell_type": "code",
      "metadata": {
        "colab_type": "code",
        "id": "6CAjIBGWUkDf",
        "colab": {}
      },
      "source": [
        "# input \n",
        "x = torch.from_numpy(dataX_train).type(dtype_torch)\n",
        "y = torch.from_numpy(dataY_train).type(torch.LongTensor)"
      ],
      "execution_count": 0,
      "outputs": []
    },
    {
      "cell_type": "code",
      "metadata": {
        "colab_type": "code",
        "id": "ZG-zxJaFUkDh",
        "colab": {}
      },
      "source": [
        "learning_rate = 1e-2\n",
        "n_iteration = 1000"
      ],
      "execution_count": 0,
      "outputs": []
    },
    {
      "cell_type": "code",
      "metadata": {
        "colab_type": "code",
        "id": "Yt1TewKOUkDk",
        "outputId": "0dd74647-9d46-4bdb-92bb-5c14b2fd683c",
        "colab": {
          "base_uri": "https://localhost:8080/",
          "height": 204
        }
      },
      "source": [
        "logger = {}\n",
        "logger['iteration'] = []\n",
        "logger['loss_iteration'] = []\n",
        "\n",
        "for t in range(n_iteration):  \n",
        "    \n",
        "    # forward pass\n",
        "    y_pred = model(x)\n",
        "    \n",
        "    # compute loss\n",
        "    loss = criterion(y_pred, y)\n",
        "\n",
        "    # backprop\n",
        "    loss.backward()\n",
        "\n",
        "    # update weights using gradient descent  \n",
        "    for param in model.parameters():\n",
        "        param.data -= learning_rate * param.grad.data \n",
        "    \n",
        "    # manually zero the gradients\n",
        "    model.zero_grad()  \n",
        "    \n",
        "    # reporting & logging       \n",
        "    if t % 100 == 0:\n",
        "        print(t, loss.item())\n",
        "        \n",
        "    logger['iteration'] += [t]\n",
        "    logger['loss_iteration'] += [loss.item()]"
      ],
      "execution_count": 335,
      "outputs": [
        {
          "output_type": "stream",
          "text": [
            "0 1.1708242893218994\n",
            "100 0.31806641817092896\n",
            "200 0.2541128396987915\n",
            "300 0.22331269085407257\n",
            "400 0.20437169075012207\n",
            "500 0.19137053191661835\n",
            "600 0.18183647096157074\n",
            "700 0.1745341271162033\n",
            "800 0.16876675188541412\n",
            "900 0.16410531103610992\n"
          ],
          "name": "stdout"
        }
      ]
    },
    {
      "cell_type": "code",
      "metadata": {
        "colab_type": "code",
        "id": "loaofwicUkDo",
        "outputId": "2f62534c-fdb3-4116-8d08-655170b40124",
        "colab": {
          "base_uri": "https://localhost:8080/",
          "height": 353
        }
      },
      "source": [
        "# visualize loss\n",
        "plt.figure(figsize=(10,5))\n",
        "plt.plot(logger['iteration'], logger['loss_iteration'],'ob', label=\"loss\")\n",
        "\n",
        "plt.xlabel('iteration')\n",
        "plt.ylabel('loss');"
      ],
      "execution_count": 336,
      "outputs": [
        {
          "output_type": "display_data",
          "data": {
            "image/png": "[encoded data removed]",
            "text/plain": [
              "<Figure size 720x360 with 1 Axes>"
            ]
          },
          "metadata": {
            "tags": []
          }
        }
      ]
    },
    {
      "cell_type": "code",
      "metadata": {
        "colab_type": "code",
        "id": "AE7MW8OoUkDq",
        "colab": {}
      },
      "source": [
        "def predict(x, model):\n",
        "    \"\"\"\n",
        "    Prediction based on two-layer model\n",
        "    \n",
        "    Args:\n",
        "        x (numpy.array): feature vector of a sample\n",
        "         \n",
        "    Returns:\n",
        "        scalar: predicted class for this sample\n",
        "    \"\"\"    \n",
        "    t = torch.from_numpy(x).type(dtype_torch)\n",
        "    forward_pass = model(t)\n",
        "    return np.argmax(forward_pass.data.numpy(), axis=1)"
      ],
      "execution_count": 0,
      "outputs": []
    },
    {
      "cell_type": "code",
      "metadata": {
        "colab_type": "code",
        "id": "YvjiWaxTUkDs",
        "outputId": "d3ac1e24-4b51-401c-9c5e-0af428a93cf0",
        "colab": {
          "base_uri": "https://localhost:8080/",
          "height": 54
        }
      },
      "source": [
        "y_train_predict = predict(dataX_train,model)\n",
        "print(\"Train accuracy: %f\" % get_accuracy(y_train_predict, dataY_train))\n",
        "\n",
        "y_test_predict = predict(dataX_test, model)\n",
        "print(\"Test accuracy: %f\" % get_accuracy(y_test_predict, dataY_test))"
      ],
      "execution_count": 338,
      "outputs": [
        {
          "output_type": "stream",
          "text": [
            "Train accuracy: 95.238095\n",
            "Test accuracy: 95.925926\n"
          ],
          "name": "stdout"
        }
      ]
    },
    {
      "cell_type": "markdown",
      "metadata": {
        "id": "VdLEgE6FZOxK",
        "colab_type": "text"
      },
      "source": [
        "<font color=\"red\"> **[PROBLEM V]**: </font>   \n",
        "<font color=\"red\"> Try to implement & test network from DL course using pytorch and this toy dataset.\n",
        "\n",
        " </font>  \n",
        " \n",
        "![tensor](https://drive.google.com/uc?id=1CteXB_bD36LzsopgIQRJymYMGdYq_ZL3)"
      ]
    },
    {
      "cell_type": "code",
      "metadata": {
        "id": "53RUzF1gZQym",
        "colab_type": "code",
        "colab": {}
      },
      "source": [
        ""
      ],
      "execution_count": 0,
      "outputs": []
    }
  ]
}